{
 "cells": [
  {
   "cell_type": "code",
   "execution_count": 1,
   "metadata": {},
   "outputs": [],
   "source": [
    "import re\n",
    "import os,stat\n",
    "import pandas as pd\n",
    "import email\n",
    "from bs4 import BeautifulSoup\n",
    "\n",
    "from nltk.tokenize import  word_tokenize\n",
    "from nltk.corpus import stopwords\n",
    "#词形还原工具\n",
    "from nltk.stem.wordnet import WordNetLemmatizer\n",
    "lemma = WordNetLemmatizer()\n",
    "\n",
    "import warnings\n",
    "\n",
    " \n",
    "warnings.filterwarnings('ignore')\n",
    "import numpy as np\n",
    "from sklearn.feature_extraction.text import CountVectorizer\n",
    "import lda\n",
    "lda.lda\n",
    "import matplotlib.pyplot as plt"
   ]
  },
  {
   "cell_type": "markdown",
   "metadata": {},
   "source": [
    "### functions"
   ]
  },
  {
   "cell_type": "code",
   "execution_count": 2,
   "metadata": {},
   "outputs": [],
   "source": [
    "def read_file(filename):\n",
    "    '''\n",
    "    从eml文件读出邮件内容\n",
    "    :param: filename: email文件路径名\n",
    "    :return: 邮件主题和邮件内容字符串, 可能带 html 格式\n",
    "    '''\n",
    "    with open(filename, encoding='latin-1') as fp:\n",
    "        msg = email.message_from_file(fp)\n",
    "        payload = msg.get_payload()\n",
    "        if type(payload) == type(list()):\n",
    "            payload = payload[0]\n",
    "        if type(payload) != type(''):\n",
    "            payload = str(payload)\n",
    "            \n",
    "        sub = msg.get('subject')\n",
    "        sub = str(sub)\n",
    "        return sub ,payload"
   ]
  },
  {
   "cell_type": "code",
   "execution_count": 3,
   "metadata": {},
   "outputs": [],
   "source": [
    "def clean_html(raw_html):\n",
    "    '''\n",
    "    清除邮件内容中的 html 标签\n",
    "    :param raw_html: 带 html 标签的文本内容\n",
    "    :return: 不带 html 标签的文本内容\n",
    "    '''\n",
    "    return BeautifulSoup(raw_html, 'html.parser').text"
   ]
  },
  {
   "cell_type": "code",
   "execution_count": 4,
   "metadata": {},
   "outputs": [],
   "source": [
    "def cleansymbols(x):\n",
    "    '''\n",
    "    清除邮件内容中的超链接和各类符号\n",
    "    :param x:传入的字符串\n",
    "    :return: 清洗后的文本内容\n",
    "    '''\n",
    "    cleanx = re.sub('(http(s)?://)?[0-9A-Za-z]+\\.[0-9A-Za-z]+[0-9A-Za-z/.-]+', '', x) # 去掉超链接\n",
    "    cleanx = re.sub(\"(\\[[0-9]\\])|[\\\"/–,;\\\\:.©£•!\\?\\-\\+~@#›￥%……&*\\(\\)\\|“>”/\\']|(\\\\n)\", \" \", cleanx) # 去掉各种符号\n",
    "    return cleanx"
   ]
  },
  {
   "cell_type": "markdown",
   "metadata": {},
   "source": [
    "### Main"
   ]
  },
  {
   "cell_type": "code",
   "execution_count": 5,
   "metadata": {},
   "outputs": [
    {
     "name": "stdout",
     "output_type": "stream",
     "text": [
      "读取邮件...\n"
     ]
    }
   ],
   "source": [
    "pathname = 'TR'\n",
    "# 下面遍历所有邮件文件，并把邮件中的主题、正文、发送人提取出来，保存到pandas的dataframe里。\n",
    "count=0\n",
    "filelist=os.listdir(pathname)\n",
    "filelist.sort(key= lambda x:int(x[6:-4]))\n",
    "IDs=[]\n",
    "Bodys=[]\n",
    "print(\"读取邮件...\")\n",
    "for file in filelist:\n",
    "    fpath = os.path.join(pathname, file)\n",
    "    info = os.stat(fpath)\n",
    "    if stat.S_ISREG(info.st_mode) and file.endswith('.eml'):\n",
    "        '''\n",
    "        1. 从邮件文件出读出所有文本\n",
    "        2. 对邮件正文进行清理并保存\n",
    "        '''\n",
    "        sub,text=read_file(fpath)\n",
    "        text = clean_html(text)\n",
    "        IDs.append(str(count))\n",
    "        Bodys.append(str(sub+text))\n",
    "            \n",
    "        count+=1\n",
    "rawdata=pd.DataFrame({'ID':IDs,'Body':Bodys})\n",
    "rawtext = rawdata['Body'].tolist()"
   ]
  },
  {
   "cell_type": "code",
   "execution_count": 6,
   "metadata": {},
   "outputs": [
    {
     "data": {
      "text/html": [
       "<div>\n",
       "<style scoped>\n",
       "    .dataframe tbody tr th:only-of-type {\n",
       "        vertical-align: middle;\n",
       "    }\n",
       "\n",
       "    .dataframe tbody tr th {\n",
       "        vertical-align: top;\n",
       "    }\n",
       "\n",
       "    .dataframe thead th {\n",
       "        text-align: right;\n",
       "    }\n",
       "</style>\n",
       "<table border=\"1\" class=\"dataframe\">\n",
       "  <thead>\n",
       "    <tr style=\"text-align: right;\">\n",
       "      <th></th>\n",
       "      <th>ID</th>\n",
       "      <th>Body</th>\n",
       "    </tr>\n",
       "  </thead>\n",
       "  <tbody>\n",
       "    <tr>\n",
       "      <th>0</th>\n",
       "      <td>0</td>\n",
       "      <td>One of a kind Money maker! Try it for free!Con...</td>\n",
       "    </tr>\n",
       "    <tr>\n",
       "      <th>1</th>\n",
       "      <td>1</td>\n",
       "      <td>link to my webcam you wanted Wanna see sexuall...</td>\n",
       "    </tr>\n",
       "    <tr>\n",
       "      <th>2</th>\n",
       "      <td>2</td>\n",
       "      <td>Re: How to manage multiple Internet connection...</td>\n",
       "    </tr>\n",
       "    <tr>\n",
       "      <th>3</th>\n",
       "      <td>3</td>\n",
       "      <td>[SPAM]  Give her 3 hour rodeoEnhance your desi...</td>\n",
       "    </tr>\n",
       "    <tr>\n",
       "      <th>4</th>\n",
       "      <td>4</td>\n",
       "      <td>Best Price on the netf5f8m1 (suddenlysusan@Sto...</td>\n",
       "    </tr>\n",
       "  </tbody>\n",
       "</table>\n",
       "</div>"
      ],
      "text/plain": [
       "  ID                                               Body\n",
       "0  0  One of a kind Money maker! Try it for free!Con...\n",
       "1  1  link to my webcam you wanted Wanna see sexuall...\n",
       "2  2  Re: How to manage multiple Internet connection...\n",
       "3  3  [SPAM]  Give her 3 hour rodeoEnhance your desi...\n",
       "4  4  Best Price on the netf5f8m1 (suddenlysusan@Sto..."
      ]
     },
     "execution_count": 6,
     "metadata": {},
     "output_type": "execute_result"
    }
   ],
   "source": [
    "rawdata.head()"
   ]
  },
  {
   "cell_type": "code",
   "execution_count": 7,
   "metadata": {},
   "outputs": [
    {
     "name": "stdout",
     "output_type": "stream",
     "text": [
      "清洗数据...\n"
     ]
    }
   ],
   "source": [
    "# 清洗文本\n",
    "print(\"清洗数据...\")\n",
    "sentences = []\n",
    "for t in rawtext:\n",
    "    sentences.append(t)\n",
    "    \n",
    "for i,sen in enumerate(sentences):\n",
    "    sentences[i] = cleansymbols(sen)"
   ]
  },
  {
   "cell_type": "code",
   "execution_count": 8,
   "metadata": {},
   "outputs": [
    {
     "name": "stdout",
     "output_type": "stream",
     "text": [
      "分词...\n"
     ]
    }
   ],
   "source": [
    "# 分词，去除停用词、短词和含有数字的词\n",
    "print(\"分词...\")\n",
    "doc_tokens = [word_tokenize(sen) for sen in sentences]"
   ]
  },
  {
   "cell_type": "code",
   "execution_count": 9,
   "metadata": {},
   "outputs": [
    {
     "name": "stdout",
     "output_type": "stream",
     "text": [
      "文本预处理...\n"
     ]
    }
   ],
   "source": [
    "print(\"文本预处理...\")\n",
    "stops = np.array(stopwords.words('english'))\n",
    "stops=np.union1d(stops,['org', 'com', 'net','www','ur','http','E','D','Re','The','just','one'])\n",
    "doc_tokens_removed = []\n",
    "for one_doc_tokens in doc_tokens:\n",
    "    new_token = []\n",
    "    for token in one_doc_tokens:\n",
    "        lt = token.lower()\n",
    "        if not(lt in stops  or len(lt)<3) and ('0' not in str(lt)) and ('1' not in str(lt)) and ('2' not in str(lt)) and ('3' not in str(lt)) and ('4' not in str(lt)) and ('5' not in str(lt)) and ('6' not in str(lt)) and ('7' not in str(lt)) and ('8' not in str(lt)) and ('9' not in str(lt)) and ('__' not in str(lt)):\n",
    "            lemma_token = lemma.lemmatize(lt) # 词干化处理\n",
    "            if (len(lemma_token)>=3):\n",
    "                new_token.append(lemma_token)\n",
    "    doc_tokens_removed.append(new_token)"
   ]
  },
  {
   "cell_type": "code",
   "execution_count": 10,
   "metadata": {},
   "outputs": [
    {
     "name": "stdout",
     "output_type": "stream",
     "text": [
      "形成词袋模型向量...\n"
     ]
    }
   ],
   "source": [
    "#    形成词袋模型的向量\n",
    "print(\"形成词袋模型向量...\")\n",
    "raw_X = [str(doc) for doc in doc_tokens_removed]\n",
    "vect = CountVectorizer()"
   ]
  },
  {
   "cell_type": "code",
   "execution_count": 11,
   "metadata": {},
   "outputs": [
    {
     "name": "stdout",
     "output_type": "stream",
     "text": [
      "话题模型训练...\n"
     ]
    },
    {
     "name": "stderr",
     "output_type": "stream",
     "text": [
      "INFO:lda:n_documents: 2500\n",
      "INFO:lda:vocab_size: 35669\n",
      "INFO:lda:n_words: 370612\n",
      "INFO:lda:n_topics: 10\n",
      "INFO:lda:n_iter: 50\n",
      "WARNING:lda:all zero row in document-term matrix found\n",
      "INFO:lda:<0> log likelihood: -4414228\n",
      "INFO:lda:<10> log likelihood: -3511037\n",
      "INFO:lda:<20> log likelihood: -3379504\n",
      "INFO:lda:<30> log likelihood: -3337665\n",
      "INFO:lda:<40> log likelihood: -3315413\n",
      "INFO:lda:<49> log likelihood: -3300383\n"
     ]
    },
    {
     "data": {
      "text/plain": [
       "<lda.lda.LDA at 0x271aae5e608>"
      ]
     },
     "execution_count": 11,
     "metadata": {},
     "output_type": "execute_result"
    }
   ],
   "source": [
    "print(\"话题模型训练...\")\n",
    "X=vect.fit_transform(raw_X)\n",
    "vocab=vect.get_feature_names()\n",
    "model =lda.LDA(n_topics=10, n_iter=50, random_state=3)\n",
    "model.fit(X)"
   ]
  },
  {
   "cell_type": "markdown",
   "metadata": {},
   "source": [
    "10个话题各自指向了某些话题领域，从他们的主要词项分布可以做如下分析：<br>\n",
    "0、\t关于科技网络计算机的发展。<br>\n",
    "1、\t主要谈及网络安全方面的的术语。关于美国的发展，环境保护。<br>\n",
    "2、\t有关教育，社会。<br>\n",
    "3、\t关于debian这款软件的退订，用户的请求等问题。<br>\n",
    "4、\t有关军事。<br>\n",
    "5、\t这个话题是关于邮件解决退订问题的。<br>\n",
    "6、\t这个话题大概是关于文件列表，电脑窗口的bug处理。<br>\n",
    "7、\t关于个人家庭生活。<br>\n",
    "8、\t是关于消息列表内容，传输，前端的设计，包括字体、字号、颜色、边框等。<br>\n",
    "9、\t关于邮件，提到人们使用时间，获取报告。<br>"
   ]
  },
  {
   "cell_type": "code",
   "execution_count": 12,
   "metadata": {},
   "outputs": [
    {
     "name": "stdout",
     "output_type": "stream",
     "text": [
      "*Topic 0\n",
      "- free company service product click new information offer please year\n",
      "*Topic 1\n",
      "- x94 x80â united change dsa lincoln coin state style year\n",
      "*Topic 2\n",
      "- group also state first world government said alb year people\n",
      "*Topic 3\n",
      "- unsubscribe debian user wrote request email subject contact archive trouble\n",
      "*Topic 4\n",
      "- united well non botanical following held body two various natural\n",
      "*Topic 5\n",
      "- file user kde linux list use window new version change\n",
      "*Topic 6\n",
      "- razor new film quicktime long fork result list class admin\n",
      "*Topic 7\n",
      "- name type home control merciadri man work thing good men\n",
      "*Topic 8\n",
      "- font text size color content checksum price family type plain\n",
      "*Topic 9\n",
      "- email list mail get message time make people would address\n"
     ]
    }
   ],
   "source": [
    "#打印各个话题中的词分布\n",
    "topic_word = model.topic_word_  \n",
    "    \n",
    "n = 10  \n",
    "for i, topic_dist in enumerate(topic_word):  \n",
    "    topic_words = np.array(vocab)[np.argsort(topic_dist)][:-(n+1):-1]  \n",
    "    print('*Topic {}\\n- {}'.format(i, ' '.join(topic_words)))"
   ]
  },
  {
   "cell_type": "code",
   "execution_count": 13,
   "metadata": {},
   "outputs": [
    {
     "name": "stdout",
     "output_type": "stream",
     "text": [
      "topic统计绘图...\n"
     ]
    },
    {
     "data": {
      "image/png": "[encoded data removed]",
      "text/plain": [
       "<Figure size 432x288 with 1 Axes>"
      ]
     },
     "metadata": {
      "needs_background": "light"
     },
     "output_type": "display_data"
    }
   ],
   "source": [
    "#绘制topic统计条形图\n",
    "print(\"topic统计绘图...\")\n",
    "doc_topic = model.doc_topic_  \n",
    "topic_count=[0 for i in range(10)]\n",
    "for n in range(len(doc_topic)):  \n",
    "    max_idx = doc_topic[n].argmax()\n",
    "    topic_count[max_idx]+=1\n",
    "#绘制条形图\n",
    "plt.bar([i for i in range(10)],topic_count)\n",
    "plt.xticks(np.arange(10), ('Topic0','Topic1', 'Topic2', 'Topic3', 'Topic4', 'Topic5', 'Topic6','Topic7','Topic8','Topic9'))\n",
    "plt.ylabel('email count')\n",
    "plt.title('the count of every topic')\n",
    "plt.show()"
   ]
  },
  {
   "cell_type": "code",
   "execution_count": null,
   "metadata": {},
   "outputs": [],
   "source": []
  }
 ],
 "metadata": {
  "kernelspec": {
   "display_name": "Python 3",
   "language": "python",
   "name": "python3"
  },
  "language_info": {
   "codemirror_mode": {
    "name": "ipython",
    "version": 3
   },
   "file_extension": ".py",
   "mimetype": "text/x-python",
   "name": "python",
   "nbconvert_exporter": "python",
   "pygments_lexer": "ipython3",
   "version": "3.7.4"
  }
 },
 "nbformat": 4,
 "nbformat_minor": 2
}
