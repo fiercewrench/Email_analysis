{
 "cells": [
  {
   "cell_type": "code",
   "execution_count": 1,
   "metadata": {},
   "outputs": [],
   "source": [
    "from sklearn import model_selection,naive_bayes, metrics, svm\n",
    "from sklearn.feature_extraction.text import TfidfVectorizer,ENGLISH_STOP_WORDS\n",
    "from sklearn.decomposition import PCA\n",
    "from sklearn.cluster import KMeans\n",
    "from sklearn.model_selection import cross_val_predict\n",
    "\n",
    "\n",
    "from bs4 import BeautifulSoup\n",
    "\n",
    "import re\n",
    "import os,stat\n",
    "import email\n",
    "import numpy as np\n",
    "import pandas as pd\n",
    "import matplotlib.pyplot as plt\n",
    "import warnings\n",
    "\n",
    "import matplotlib\n",
    "import jieba.posseg as pseg"
   ]
  },
  {
   "cell_type": "code",
   "execution_count": 2,
   "metadata": {},
   "outputs": [],
   "source": [
    "warnings.filterwarnings('ignore')"
   ]
  },
  {
   "cell_type": "markdown",
   "metadata": {},
   "source": [
    " 1. 邮件读取与数据预处理 <br />\n",
    " 2. TF-IDF向量化 <br />\n",
    " 3. 关键词分析 <br />\n",
    " 4. 垃圾邮件分类 <br />\n",
    " 5. 非垃圾邮件聚类&分类 <br />"
   ]
  },
  {
   "cell_type": "markdown",
   "metadata": {},
   "source": [
    "### Functions"
   ]
  },
  {
   "cell_type": "code",
   "execution_count": 3,
   "metadata": {},
   "outputs": [],
   "source": [
    "def get_from(msg):\n",
    "    '''\n",
    "    获取message的发件人信息\n",
    "    :param: email的message对象\n",
    "    :return:发件人名字或地址\n",
    "    '''\n",
    "    return email.utils.parseaddr(msg.get('from'))[1]"
   ]
  },
  {
   "cell_type": "code",
   "execution_count": 4,
   "metadata": {},
   "outputs": [],
   "source": [
    "def read_file(filename):\n",
    "    '''\n",
    "    从email文件读出邮件内容，需要使用 email 解析\n",
    "    :param: filename: email文件路径名\n",
    "    :return: 邮件主题和邮件内容字符串, 可能带 html 格式\n",
    "    '''\n",
    "    with open(filename, encoding='latin-1') as fp:\n",
    "        msg = email.message_from_file(fp)\n",
    "        payload = msg.get_payload()\n",
    "        if type(payload) == type(list()):\n",
    "            payload = payload[0]\n",
    "        if type(payload) != type(''):\n",
    "            payload = str(payload)\n",
    "            \n",
    "        sub = msg.get('subject')\n",
    "        sub = str(sub)\n",
    "        return sub ,payload,get_from(msg)"
   ]
  },
  {
   "cell_type": "code",
   "execution_count": 5,
   "metadata": {},
   "outputs": [],
   "source": [
    "def clean_html(raw_html):\n",
    "    '''\n",
    "    清除邮件内容中的 html 标签\n",
    "    :param raw_html: 带 html 标签的文本内容\n",
    "    :return: 不带 html 标签的文本内容\n",
    "    '''\n",
    "    return BeautifulSoup(raw_html, 'html.parser').text"
   ]
  },
  {
   "cell_type": "code",
   "execution_count": 6,
   "metadata": {},
   "outputs": [],
   "source": [
    "def top_mean_feats(X, features,x_range=None, min_tfidf=0.15, top_n=10):\n",
    "    '''\n",
    "    获取给定下标的邮件的关键词\n",
    "    :param X: 邮件文本array\n",
    "    :param features: list of all the tokens\n",
    "    :param x_range: 一个邮件下标，或者一组邮件下标\n",
    "    :param min_tfidf: threshold of tfidf. If the value of tfidf is lower than min_tfidf, it will be set to 0.\n",
    "    :param top_n: number of keywords 需要获取排名前多少的关键词\n",
    "    :return: dataframe - col1 排名前n的关键词，col2 the score of each keyword\n",
    "    '''\n",
    "    if x_range:\n",
    "        D = X[x_range].toarray()\n",
    "    else: # 如果没有给定的邮件下标，就获取所有邮件\n",
    "        D = X.toarray()\n",
    "        \n",
    "    #若数组中某元素的tfidf分小于阈值则将它变成0\n",
    "    D[D < min_tfidf] = 0\n",
    "    tfidf_means = np.mean(D, axis=0)#对2维数组D按列取平均，变成1行，1万9千多列的数组\n",
    "    topn_ids = np.argsort(tfidf_means)[::-1][:top_n]\n",
    "    top_feats = [(features[i], tfidf_means[i]) for i in topn_ids]\n",
    "    df = pd.DataFrame(top_feats, columns=['features', 'score'])\n",
    "    return df"
   ]
  },
  {
   "cell_type": "code",
   "execution_count": 7,
   "metadata": {},
   "outputs": [],
   "source": [
    "def docToWords(doc,stopwords=None):\n",
    "    \"\"\"\n",
    "    use the stopwords to spilit the document into words\n",
    "    :param doc: text\n",
    "    :param stopwords: stopwords filepath\n",
    "    :return: list of words\n",
    "    \"\"\"\n",
    "    text=doc\n",
    "    text=text.split('\\n')\n",
    "    stopword=stopwords\n",
    "    #split text into sentence array\n",
    "    seprators='.?!;？！。；…'\n",
    "    for sep in seprators:\n",
    "        res=[]\n",
    "        for sentence in text:\n",
    "            res+=(sentence.split(sep))\n",
    "        text=res\n",
    "    \n",
    "    #use jieba to do participle\n",
    "    res=[]\n",
    "    for sentence in text:\n",
    "        #participle\n",
    "        sentence=pseg.cut(sentence)\n",
    "        sentence=    [w for w in sentence]\n",
    "        #去除前后空格和非语素字\n",
    "        sentence=[w.word.strip() for w in sentence if w.flag != 'x']\n",
    "        #去除空字符\n",
    "        sentence=[word for word in sentence if len(word) > 0]\n",
    "        #去除停用词\n",
    "        if stopwords!=None:\n",
    "            sentence=[w for w in sentence if w not in stopword]\n",
    "        res.append(sentence)\n",
    "    return res"
   ]
  },
  {
   "cell_type": "code",
   "execution_count": 8,
   "metadata": {},
   "outputs": [],
   "source": [
    "def get_acc(clf, train_X, train_y, test_X,test_y):\n",
    "    # 模型对训练集进行训练\n",
    "    clf.fit(train_X, train_y)\n",
    "    # 模型对测试集进行预测\n",
    "    predictions = clf.predict(test_X)\n",
    "    return metrics.accuracy_score(predictions, test_y)"
   ]
  },
  {
   "cell_type": "code",
   "execution_count": 36,
   "metadata": {},
   "outputs": [],
   "source": [
    "def print_tfidf_topn(X,features,top_n=10):\n",
    "    '''\n",
    "    tfidf关键词的打印方法\n",
    "    :param: X:tfidf向量\n",
    "    :param: features:词语列表\n",
    "    :param: top_n:关键词个数，默认为10\n",
    "    :return: word-tfidf dataframe\n",
    "    '''\n",
    "    X = X.toarray()\n",
    "    means = np.mean(X, axis=0)#对2维数组X按列取平均,计算每个词在所有邮件中的平均tfidf值\n",
    "    idx = np.argsort(means)[::-1][:top_n]\n",
    "    res = [(features[i], means[i]) for i in idx]\n",
    "    df = pd.DataFrame(res, columns=['features', 'tfidf'])\n",
    "    for f,m in res:\n",
    "        print(f+':'+str(m))\n",
    "    return df"
   ]
  },
  {
   "cell_type": "code",
   "execution_count": 39,
   "metadata": {},
   "outputs": [],
   "source": [
    "def KFoldMean(X,y,clf):\n",
    "    pred=cross_val_predict(clf,X,y,cv=10)\n",
    "    bac=metrics.balanced_accuracy_score(y,pred)\n",
    "    return bac"
   ]
  },
  {
   "cell_type": "markdown",
   "metadata": {},
   "source": [
    "以下两个函数是为了试验textrank。运用textrank找到了关键词，但没有参与之后的classification"
   ]
  },
  {
   "cell_type": "code",
   "execution_count": 9,
   "metadata": {},
   "outputs": [],
   "source": [
    "def combine(word_list, window=2):\n",
    "    \"\"\"\n",
    "    构造在window下的单词组合，用来构造单词之间的边。(sliding window algorithm?)\n",
    "    :param word_list: list of str, 由单词组成的列表。\n",
    "    :param windows: int, 窗口大小。\n",
    "    \"\"\"\n",
    "    if window < 2: window = 2\n",
    "    for x in range(1, window):\n",
    "        if x >= len(word_list):\n",
    "            break\n",
    "        word_list2 = word_list[x:]\n",
    "        #利用zip方法，yield生成一对词构成的边\n",
    "        res = zip(word_list, word_list2)\n",
    "        for r in res:\n",
    "            yield r"
   ]
  },
  {
   "cell_type": "code",
   "execution_count": 10,
   "metadata": {},
   "outputs": [],
   "source": [
    "def get_keywords(txt,stopwords,window=2,m=10):\n",
    "    if txt.endswith('.txt'):\n",
    "        words=txtToWords(txt,stopwords)\n",
    "    else:\n",
    "        words=docToWords(txt,stopwords)\n",
    "    t_trans_mat = []\n",
    "    result_words=[]\n",
    "    result_prob=[]\n",
    "    #从词查下标的字典\n",
    "    word_index = {}\n",
    "    #从下标查词的字典\n",
    "    index_word = {}\n",
    "    words_number = 0\n",
    "    \n",
    "    #以下将把words列表中所有词统计到VSM（向量空间模型）中，并提供词到下标，下标到词两个字典方便后续查找。\n",
    "    for word_list in words:\n",
    "        for word in word_list:\n",
    "            if not word in word_index:\n",
    "                word_index[word] = words_number\n",
    "                index_word[words_number] = word\n",
    "                words_number += 1\n",
    "\n",
    "    #以下根据每个词出现的位置信息建立无向权重图\n",
    "    graph =  np.zeros((words_number,words_number))\n",
    "    #如果两个词出现在同一个句子中，符合窗口大小关系，则在它们之间建立一条边，并存入图中。\n",
    "    for word_list in words:\n",
    "        for w1, w2 in combine(word_list, window):\n",
    "            if w1 in word_index and w2 in word_index:\n",
    "                index1 = word_index[w1]\n",
    "                index2 = word_index[w2]\n",
    "                graph[index1][index2] += 1.0\n",
    "                graph[index2][index1] += 1.0\n",
    "    \n",
    "    #在graph中获取前m个关键词词的下标，然后在index_word字典中查到词，存入result_words中返回\n",
    "    w_prob=np.array(np.mean(graph,axis=0))\n",
    "    w_prob_rank=np.argsort(-w_prob)\n",
    "    for i in range(m):\n",
    "        result_words.append(index_word[w_prob_rank[i+1]])\n",
    "        result_prob.append(w_prob[w_prob_rank[i+1]])\n",
    "    return result_words,result_prob"
   ]
  },
  {
   "cell_type": "markdown",
   "metadata": {},
   "source": [
    "### Main"
   ]
  },
  {
   "cell_type": "markdown",
   "metadata": {},
   "source": [
    "#### 1. preprocessing"
   ]
  },
  {
   "cell_type": "markdown",
   "metadata": {},
   "source": [
    "把每条邮件的标签（0代表垃圾邮件,1代表非垃圾邮件）读到y中。"
   ]
  },
  {
   "cell_type": "code",
   "execution_count": 11,
   "metadata": {},
   "outputs": [
    {
     "data": {
      "text/plain": [
       "0    0\n",
       "1    0\n",
       "2    1\n",
       "3    0\n",
       "4    0\n",
       "Name: Prediction, dtype: int64"
      ]
     },
     "execution_count": 11,
     "metadata": {},
     "output_type": "execute_result"
    }
   ],
   "source": [
    "labels = pd.read_csv('spam-mail.tr.label')\n",
    "y=labels['Prediction']\n",
    "y.head()"
   ]
  },
  {
   "cell_type": "code",
   "execution_count": 12,
   "metadata": {},
   "outputs": [],
   "source": [
    "count=0\n",
    "pathname = 'TR'\n",
    "filelist=os.listdir(pathname)\n",
    "filelist.sort(key= lambda x:int(x[6:-4]))\n",
    "    \n",
    "IDs=[]\n",
    "Bodys=[]\n",
    "Froms=[]\n",
    "for file in filelist:\n",
    "    fpath = os.path.join(pathname, file)\n",
    "    info = os.stat(fpath)\n",
    "    # if it's an regular file and is an email\n",
    "    if stat.S_ISREG(info.st_mode) and file.endswith('.eml'):\n",
    "        '''\n",
    "        1. 从邮件文件出读出所有文本\n",
    "        2. 对邮件正文进行清理并保存\n",
    "        '''\n",
    "        sub,text,from_u=read_file(fpath)\n",
    "        text = clean_html(text)\n",
    "        IDs.append(str(count))\n",
    "        Bodys.append(str(sub+text))\n",
    "        Froms.append(str(from_u))\n",
    "        count+=1\n",
    "            \n",
    "raw_data=pd.DataFrame({'ID':IDs,'Body':Bodys,'From':Froms})\n",
    "X = raw_data['Body']"
   ]
  },
  {
   "cell_type": "markdown",
   "metadata": {},
   "source": [
    "将数据集划分为训练集和测试集合"
   ]
  },
  {
   "cell_type": "code",
   "execution_count": 13,
   "metadata": {},
   "outputs": [],
   "source": [
    "train_X, test_X, train_y, test_y = model_selection.train_test_split(X, y, random_state=3, train_size=0.7)"
   ]
  },
  {
   "cell_type": "markdown",
   "metadata": {},
   "source": [
    "#### 2. TF-IDF"
   ]
  },
  {
   "cell_type": "code",
   "execution_count": 14,
   "metadata": {},
   "outputs": [],
   "source": [
    "stopwords = ENGLISH_STOP_WORDS.union(['20', 'org', 'com', 'net','www','2002','2009','2010','ur','http','2','E','D','22','Re','The','just'])"
   ]
  },
  {
   "cell_type": "markdown",
   "metadata": {},
   "source": [
    "把原始文本转化成TF-IDF特征矩阵,先拟合数据，再标准化"
   ]
  },
  {
   "cell_type": "code",
   "execution_count": 15,
   "metadata": {},
   "outputs": [],
   "source": [
    "vect = TfidfVectorizer(stop_words=stopwords, max_df=0.50, min_df=2)\n",
    "X = vect.fit_transform(X)"
   ]
  },
  {
   "cell_type": "code",
   "execution_count": 16,
   "metadata": {},
   "outputs": [],
   "source": [
    "train_X=vect.transform(train_X)\n",
    "test_X=vect.transform(test_X)"
   ]
  },
  {
   "cell_type": "code",
   "execution_count": 17,
   "metadata": {},
   "outputs": [],
   "source": [
    "#this gives you the list of all the tokens or n-grams or words\n",
    "features = vect.get_feature_names()"
   ]
  },
  {
   "cell_type": "code",
   "execution_count": 18,
   "metadata": {},
   "outputs": [
    {
     "name": "stdout",
     "output_type": "stream",
     "text": [
      "\n",
      "关键词分析(tfidf)...\n",
      "\n",
      "邮件TRAIN_2.eml的top 10 keywords(tfidf):\n",
      "      features     score\n",
      "0       webcam  0.469939\n",
      "1  girlfriends  0.263913\n",
      "2    inbetween  0.246464\n",
      "3    personals  0.240235\n",
      "4        wanna  0.240235\n",
      "5     sexually  0.240235\n",
      "6        teens  0.234970\n",
      "7        horny  0.230408\n",
      "8       eating  0.226385\n",
      "9         baby  0.208935\n"
     ]
    }
   ],
   "source": [
    "#利用tfidf计算下标为num这封邮件排名前10的关键词\n",
    "print('\\n关键词分析(tfidf)...')\n",
    "num=1\n",
    "top_n=10\n",
    "print('\\n邮件TRAIN_%d.eml的top %d keywords(tfidf):'%(num+1,top_n))\n",
    "print(top_mean_feats(X,features,x_range=num,top_n=top_n))"
   ]
  },
  {
   "cell_type": "code",
   "execution_count": 19,
   "metadata": {
    "scrolled": true
   },
   "outputs": [
    {
     "name": "stdout",
     "output_type": "stream",
     "text": [
      "\n",
      "所有邮件的top 10 keywords(tfidf):\n",
      "       features     score\n",
      "0        debian  0.037543\n",
      "1         linux  0.011911\n",
      "2         razor  0.009595\n",
      "3           kde  0.009428\n",
      "4          ilug  0.008613\n",
      "5          spam  0.008552\n",
      "6  spamassassin  0.008327\n",
      "7           rpm  0.008281\n",
      "8         lists  0.007444\n",
      "9          java  0.007233\n"
     ]
    }
   ],
   "source": [
    "#利用tfidf计算所有邮件排名前10的关键词\n",
    "print('\\n所有邮件的top %d keywords(tfidf):'%top_n)\n",
    "print(top_mean_feats(X, features,top_n=top_n))\n",
    "    \n",
    "raw=raw_data['Body']\n",
    "data=''\n",
    "count=0\n",
    "for r in raw:#构建字符串\n",
    "    count+=1\n",
    "    if count%20!=0:\n",
    "        continue\n",
    "    data+=r\n"
   ]
  },
  {
   "cell_type": "code",
   "execution_count": 20,
   "metadata": {},
   "outputs": [
    {
     "name": "stderr",
     "output_type": "stream",
     "text": [
      "Building prefix dict from the default dictionary ...\n",
      "Loading model from cache C:\\Users\\wang1\\AppData\\Local\\Temp\\jieba.cache\n"
     ]
    },
    {
     "name": "stdout",
     "output_type": "stream",
     "text": [
      "\n",
      "关键词分析(TextRank)...\n"
     ]
    },
    {
     "name": "stderr",
     "output_type": "stream",
     "text": [
      "Loading model cost 0.954 seconds.\n",
      "Prefix dict has been built succesfully.\n"
     ]
    },
    {
     "name": "stdout",
     "output_type": "stream",
     "text": [
      "\n",
      "所有邮件的top 10 keywords(TextRank):\n",
      "lists:0.01729496014052155\n",
      "email:0.01634914200783678\n",
      "use:0.015403323875152006\n",
      "list:0.013376570733684636\n",
      "user:0.012700986353195514\n",
      "text:0.012160518848804215\n",
      "C:0.011890285096608567\n",
      "time:0.01080935008782597\n",
      "debian:0.01053911633563032\n",
      "mailing:0.010133765707336847\n"
     ]
    }
   ],
   "source": [
    "#获得textrank方法排名前10的关键词及其评分\n",
    "print('\\n关键词分析(TextRank)...')\n",
    "w,p=get_keywords(data,stopwords,m=top_n)\n",
    "print('\\n所有邮件的top %d keywords(TextRank):'%top_n)\n",
    "for i in range(len(w)):\n",
    "    print(w[i]+':'+str(p[i]))"
   ]
  },
  {
   "cell_type": "code",
   "execution_count": 21,
   "metadata": {},
   "outputs": [
    {
     "name": "stdout",
     "output_type": "stream",
     "text": [
      "\n",
      "Naive Bayes accuracy score：\n",
      "0.9346666666666666\n",
      "\n",
      "SVM accuracy score：\n",
      "0.976\n"
     ]
    }
   ],
   "source": [
    "print('\\nNaive Bayes accuracy score：')\n",
    "print(get_acc(naive_bayes.MultinomialNB(),train_X, train_y, test_X,test_y))\n",
    "print('\\nSVM accuracy score：')\n",
    "print(get_acc(svm.SVC(kernel = 'linear'),train_X, train_y, test_X,test_y))"
   ]
  },
  {
   "cell_type": "markdown",
   "metadata": {},
   "source": [
    "非垃圾邮件的聚类"
   ]
  },
  {
   "cell_type": "code",
   "execution_count": 31,
   "metadata": {},
   "outputs": [],
   "source": [
    "#获得所有非垃圾邮件的下标\n",
    "idx=[i for i,label in enumerate(y) if label==1]"
   ]
  },
  {
   "cell_type": "code",
   "execution_count": 32,
   "metadata": {},
   "outputs": [],
   "source": [
    "X_c=X[idx]\n",
    "y_c=y[idx].values"
   ]
  },
  {
   "cell_type": "code",
   "execution_count": 33,
   "metadata": {},
   "outputs": [],
   "source": [
    "#把数据转化成numpy的矩阵,方便后面的PCA操作\n",
    "X_dense = X_c.todense()\n",
    "#把数据降维成2，方便以图形方式展示数据\n",
    "coords = PCA(n_components=2).fit_transform(X_dense)"
   ]
  },
  {
   "cell_type": "code",
   "execution_count": 34,
   "metadata": {},
   "outputs": [],
   "source": [
    "#聚类clustering\n",
    "n_clusters = 3\n",
    "clf = KMeans(n_clusters=n_clusters, max_iter=100, init='k-means++', n_init=1,random_state=20)\n",
    "labels = clf.fit_predict(X_c)"
   ]
  },
  {
   "cell_type": "code",
   "execution_count": 35,
   "metadata": {},
   "outputs": [
    {
     "data": {
      "image/png": "[encoded data removed]",
      "text/plain": [
       "<Figure size 432x288 with 1 Axes>"
      ]
     },
     "metadata": {
      "needs_background": "light"
     },
     "output_type": "display_data"
    }
   ],
   "source": [
    "#下面绘制3个cluster点的散点图\n",
    "l1=np.squeeze(np.where(labels==0))\n",
    "l2=np.where(labels==1)\n",
    "l3=np.where(labels==2)\n",
    "plt.figure(1)\n",
    "ax = plt.subplot(111)\n",
    "p1=ax.scatter(coords[l1,0],coords[l1,1],marker = '*',color = 'r',label='1',s=10)\n",
    "p2=ax.scatter(coords[l2,0],coords[l2,1],marker = 'o',color = 'g',label='2',s=10)\n",
    "p3=ax.scatter(coords[l3,0],coords[l3,1],marker = '+',color = 'b',label='3',s=10)\n",
    "ax.legend((p1, p2, p3), (u'类别1', u'类别2', u'类别3'), loc=2)\n",
    "    \n",
    "plt.show()"
   ]
  },
  {
   "cell_type": "code",
   "execution_count": 38,
   "metadata": {},
   "outputs": [
    {
     "name": "stdout",
     "output_type": "stream",
     "text": [
      "\n",
      "关键词分析(tfidf)...\n",
      "\n",
      "cluster 1 top 10 keywords(tfidf):\n",
      "debian:0.03763538786512196\n",
      "lists:0.031829885857343386\n",
      "spam:0.029953639231665496\n",
      "list:0.022353230431631947\n",
      "unsubscribe:0.019834317334170192\n",
      "wrote:0.0188263287223026\n",
      "linux:0.018804703721456352\n",
      "email:0.018782065264704353\n",
      "spamassassin:0.0186445989918691\n",
      "click:0.01653120824062853\n",
      "\n",
      "cluster 2 top 10 keywords(tfidf):\n",
      "debian:0.04828552351932212\n",
      "lists:0.03279952923288766\n",
      "unsubscribe:0.024577286743963592\n",
      "email:0.018579216786144787\n",
      "list:0.017294105513503508\n",
      "click:0.017113223767854752\n",
      "linux:0.016417828248621206\n",
      "use:0.015327623097057628\n",
      "spam:0.014838588038104287\n",
      "content:0.013804825338650987\n",
      "\n",
      "cluster 3 top 10 keywords(tfidf):\n",
      "debian:0.04191630949180041\n",
      "lists:0.03247384898736442\n",
      "unsubscribe:0.022248103854794764\n",
      "list:0.020156161560015807\n",
      "email:0.01930265923218262\n",
      "click:0.0164712460436056\n",
      "linux:0.015871789727806073\n",
      "wrote:0.015654375414942134\n",
      "spam:0.014307841604514754\n",
      "users:0.014190604150183963\n",
      "\n"
     ]
    }
   ],
   "source": [
    "print('\\n关键词分析(tfidf)...')\n",
    "print('\\ncluster 1 top 10 keywords(tfidf):')\n",
    "print_tfidf_topn(X[l1],features)\n",
    "print('\\ncluster 2 top 10 keywords(tfidf):')\n",
    "print_tfidf_topn(X[l2],features)\n",
    "print('\\ncluster 3 top 10 keywords(tfidf):')\n",
    "print_tfidf_topn(X[l3],features)\n",
    "print('')"
   ]
  },
  {
   "cell_type": "markdown",
   "metadata": {},
   "source": [
    "cross_val_predict自动对X,y进行训练测试集的划分并获取平均的预测结果，有了预测结果pred就可以计算得到精度bac"
   ]
  },
  {
   "cell_type": "code",
   "execution_count": 40,
   "metadata": {},
   "outputs": [
    {
     "name": "stdout",
     "output_type": "stream",
     "text": [
      "\n",
      "Naive Bayes训练、预测、获取精度...\n",
      "\n",
      "对非垃圾邮件聚类打标签后，Naive Bayes分类模型精度：0.941023956270398\n",
      "\n",
      "SVM训练、预测、获取精度...\n",
      "\n",
      "对非垃圾邮件聚类打标签后，SVM分类模型精度：0.9871959194753435\n"
     ]
    }
   ],
   "source": [
    " y_temp=y_c\n",
    "y_temp[:]=0\n",
    "y_temp[l3]=1\n",
    "print('\\nNaive Bayes训练、预测、获取精度...')\n",
    "b_nb=KFoldMean(X_c,y_temp,naive_bayes.MultinomialNB())\n",
    "print('\\n对非垃圾邮件聚类打标签后，Naive Bayes分类模型精度：'+str(b_nb))\n",
    "print('\\nSVM训练、预测、获取精度...')\n",
    "b_svm=KFoldMean(X_c,y_temp,svm.SVC(kernel = 'linear'))\n",
    "print('\\n对非垃圾邮件聚类打标签后，SVM分类模型精度：'+str(b_svm))"
   ]
  },
  {
   "cell_type": "code",
   "execution_count": null,
   "metadata": {},
   "outputs": [],
   "source": []
  }
 ],
 "metadata": {
  "kernelspec": {
   "display_name": "Python 3",
   "language": "python",
   "name": "python3"
  },
  "language_info": {
   "codemirror_mode": {
    "name": "ipython",
    "version": 3
   },
   "file_extension": ".py",
   "mimetype": "text/x-python",
   "name": "python",
   "nbconvert_exporter": "python",
   "pygments_lexer": "ipython3",
   "version": "3.7.4"
  }
 },
 "nbformat": 4,
 "nbformat_minor": 2
}
