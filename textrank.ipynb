{
 "cells": [
  {
   "cell_type": "code",
   "execution_count": 2,
   "metadata": {},
   "outputs": [],
   "source": [
    "import numpy as np"
   ]
  },
  {
   "cell_type": "markdown",
   "metadata": {},
   "source": [
    "Keyword arguments: <br />\n",
    "    txt             --  txt文本的文件地址或者是文本字符串 <br />\n",
    "    stopwords       --  停用词数组 <br />\n",
    "    window          --  一个句子中相邻的window个单词，两两之间认为有边 <br />\n",
    "    m               --  想要获取的关键词个数 <br />"
   ]
  },
  {
   "cell_type": "code",
   "execution_count": 4,
   "metadata": {},
   "outputs": [],
   "source": [
    " def get_keywords(txt,stopwords,window=2,m=10):\n",
    "    if txt.endswith('.txt'):\n",
    "        words=txtToWords(txt,stopwords)\n",
    "    else:\n",
    "        words=docToWords(txt,stopwords)\n",
    "    t_trans_mat = []\n",
    "    result_words=[]\n",
    "    result_prob=[]\n",
    "    #从词查下标的字典\n",
    "    word_index = {}\n",
    "    #从下标查词的字典\n",
    "    index_word = {}\n",
    "    words_number = 0\n",
    "    \n",
    "    #以下将把words列表中所有词统计到VSM（向量空间模型）中，并提供词到下标，下标到词两个字典方便后续查找。\n",
    "    for word_list in words:\n",
    "        for word in word_list:\n",
    "            if not word in word_index:\n",
    "                word_index[word] = words_number\n",
    "                index_word[words_number] = word\n",
    "                words_number += 1\n",
    "\n",
    "    #以下根据每个词出现的位置信息建立无向权重图\n",
    "    graph =  np.zeros((words_number,words_number))\n",
    "    #如果两个词出现在同一个句子中，符合窗口大小关系，则在它们之间建立一条边，并存入图中。\n",
    "    for word_list in words:\n",
    "        for w1, w2 in combine(word_list, window):\n",
    "            if w1 in word_index and w2 in word_index:\n",
    "                index1 = word_index[w1]\n",
    "                index2 = word_index[w2]\n",
    "                graph[index1][index2] += 1.0\n",
    "                graph[index2][index1] += 1.0\n",
    "    \n",
    "    #在graph中获取前m个关键词词的下标，然后在index_word字典中查到词，存入result_words中返回\n",
    "    w_prob=np.array(np.mean(graph,axis=0))\n",
    "    w_prob_rank=np.argsort(-w_prob)\n",
    "    for i in range(m):\n",
    "        result_words.append(index_word[w_prob_rank[i+1]])\n",
    "        result_prob.append(w_prob[w_prob_rank[i+1]])\n",
    "    return result_words,result_prob"
   ]
  },
  {
   "cell_type": "code",
   "execution_count": null,
   "metadata": {},
   "outputs": [],
   "source": []
  }
 ],
 "metadata": {
  "kernelspec": {
   "display_name": "Python 3",
   "language": "python",
   "name": "python3"
  },
  "language_info": {
   "codemirror_mode": {
    "name": "ipython",
    "version": 3
   },
   "file_extension": ".py",
   "mimetype": "text/x-python",
   "name": "python",
   "nbconvert_exporter": "python",
   "pygments_lexer": "ipython3",
   "version": "3.7.4"
  }
 },
 "nbformat": 4,
 "nbformat_minor": 2
}
